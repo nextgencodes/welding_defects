{
 "cells": [
  {
   "cell_type": "markdown",
   "id": "6f028f10",
   "metadata": {},
   "source": [
    "# Welding Defect Classification"
   ]
  },
  {
   "cell_type": "markdown",
   "id": "794c8a37",
   "metadata": {},
   "source": [
    "In this notebook, we build a deep learning model to classify images of welds as defective or not defective. We make use of a pre-trained model with transfer learning."
   ]
  },
  {
   "cell_type": "markdown",
   "id": "11d76c88",
   "metadata": {},
   "source": [
    "### Load Libraries\n",
    "\n",
    "Load necessary libraries, and optionally install missing requirements.  If any other needed libraries are not installed, please install them with `!pip install <library name>`.\n",
    "\n",
    "We also print out some data about the environment and set the seed."
   ]
  },
  {
   "cell_type": "code",
   "execution_count": 6,
   "id": "0bb81b2f",
   "metadata": {},
   "outputs": [
    {
     "name": "stdout",
     "output_type": "stream",
     "text": [
      "Requirement already satisfied: matplotlib in d:\\users\\delhi\\anaconda3\\envs\\tensorflow\\lib\\site-packages (3.3.4)\n",
      "Requirement already satisfied: python-dateutil>=2.1 in d:\\users\\delhi\\anaconda3\\envs\\tensorflow\\lib\\site-packages (from matplotlib) (2.8.2)\n",
      "Requirement already satisfied: pyparsing!=2.0.4,!=2.1.2,!=2.1.6,>=2.0.3 in d:\\users\\delhi\\anaconda3\\envs\\tensorflow\\lib\\site-packages (from matplotlib) (3.0.9)\n",
      "Requirement already satisfied: kiwisolver>=1.0.1 in d:\\users\\delhi\\anaconda3\\envs\\tensorflow\\lib\\site-packages (from matplotlib) (1.3.1)\n",
      "Requirement already satisfied: pillow>=6.2.0 in d:\\users\\delhi\\anaconda3\\envs\\tensorflow\\lib\\site-packages (from matplotlib) (8.4.0)\n",
      "Requirement already satisfied: cycler>=0.10 in d:\\users\\delhi\\anaconda3\\envs\\tensorflow\\lib\\site-packages (from matplotlib) (0.11.0)\n",
      "Requirement already satisfied: numpy>=1.15 in d:\\users\\delhi\\anaconda3\\envs\\tensorflow\\lib\\site-packages (from matplotlib) (1.19.5)\n",
      "Requirement already satisfied: six>=1.5 in d:\\users\\delhi\\anaconda3\\envs\\tensorflow\\lib\\site-packages (from python-dateutil>=2.1->matplotlib) (1.15.0)\n",
      "Requirement already satisfied: tf2onnx in d:\\users\\delhi\\anaconda3\\envs\\tensorflow\\lib\\site-packages (1.12.1)\n",
      "Requirement already satisfied: flatbuffers~=1.12 in d:\\users\\delhi\\anaconda3\\envs\\tensorflow\\lib\\site-packages (from tf2onnx) (1.12)\n",
      "Requirement already satisfied: six in d:\\users\\delhi\\anaconda3\\envs\\tensorflow\\lib\\site-packages (from tf2onnx) (1.15.0)\n",
      "Requirement already satisfied: requests in d:\\users\\delhi\\anaconda3\\envs\\tensorflow\\lib\\site-packages (from tf2onnx) (2.27.1)\n",
      "Requirement already satisfied: numpy>=1.14.1 in d:\\users\\delhi\\anaconda3\\envs\\tensorflow\\lib\\site-packages (from tf2onnx) (1.19.5)\n",
      "Requirement already satisfied: onnx>=1.4.1 in d:\\users\\delhi\\anaconda3\\envs\\tensorflow\\lib\\site-packages (from tf2onnx) (1.11.0)\n",
      "Requirement already satisfied: protobuf>=3.12.2 in d:\\users\\delhi\\anaconda3\\envs\\tensorflow\\lib\\site-packages (from onnx>=1.4.1->tf2onnx) (3.19.5)\n",
      "Requirement already satisfied: typing-extensions>=3.6.2.1 in d:\\users\\delhi\\anaconda3\\envs\\tensorflow\\lib\\site-packages (from onnx>=1.4.1->tf2onnx) (3.7.4.3)\n",
      "Requirement already satisfied: charset-normalizer~=2.0.0 in d:\\users\\delhi\\anaconda3\\envs\\tensorflow\\lib\\site-packages (from requests->tf2onnx) (2.0.12)\n",
      "Requirement already satisfied: idna<4,>=2.5 in d:\\users\\delhi\\anaconda3\\envs\\tensorflow\\lib\\site-packages (from requests->tf2onnx) (3.4)\n",
      "Requirement already satisfied: certifi>=2017.4.17 in d:\\users\\delhi\\anaconda3\\envs\\tensorflow\\lib\\site-packages (from requests->tf2onnx) (2021.5.30)\n",
      "Requirement already satisfied: urllib3<1.27,>=1.21.1 in d:\\users\\delhi\\anaconda3\\envs\\tensorflow\\lib\\site-packages (from requests->tf2onnx) (1.26.12)\n"
     ]
    }
   ],
   "source": [
    "# # Install the following libraries with pip, if not already available:\n",
    "!pip install matplotlib\n",
    "!pip install tf2onnx\n",
    "\n",
    "import os\n",
    "\n",
    "import numpy as np\n",
    "from numpy.random import seed\n",
    "import tensorflow as tf\n",
    "\n",
    "from tensorflow.keras import backend as K\n",
    "from tensorflow.keras import applications, layers, models, optimizers\n",
    "from tensorflow.keras.preprocessing.image import ImageDataGenerator\n",
    "\n",
    "from matplotlib import pyplot as plt\n",
    "from sklearn.metrics import confusion_matrix\n",
    "from sklearn.metrics import matthews_corrcoef, accuracy_score\n",
    "from PIL import Image\n",
    "\n",
    "import tf2onnx\n",
    "import onnx\n",
    "\n",
    "from time import perf_counter\n",
    "\n",
    "# Ignore warnings\n",
    "import warnings\n",
    "warnings.filterwarnings('ignore')"
   ]
  },
  {
   "cell_type": "code",
   "execution_count": null,
   "id": "951217e5",
   "metadata": {},
   "outputs": [],
   "source": [
    "from tensorflow.python.client import device_lib\n",
    "print(device_lib.list_local_devices())"
   ]
  },
  {
   "cell_type": "code",
   "execution_count": 7,
   "id": "63bf550f",
   "metadata": {},
   "outputs": [
    {
     "name": "stdout",
     "output_type": "stream",
     "text": [
      "numpy: 1.19.5\n",
      "tensorflow: 2.6.2\n",
      "backend: tensorflow\n",
      "image data format: channels_last\n"
     ]
    }
   ],
   "source": [
    "# Print library versions\n",
    "print('numpy:', np.__version__)\n",
    "print('tensorflow:', tf.__version__)\n",
    "\n",
    "# Print backend and image data format\n",
    "print('backend:', K.backend())\n",
    "print('image data format:', K.image_data_format())\n",
    "\n",
    "# Set seed \n",
    "seed(1)\n",
    "tf.compat.v1.set_random_seed(2)"
   ]
  },
  {
   "cell_type": "markdown",
   "id": "5e498bf1",
   "metadata": {},
   "source": [
    "### Define functions and set environment and model training variables"
   ]
  },
  {
   "cell_type": "code",
   "execution_count": 8,
   "id": "c03d694b",
   "metadata": {},
   "outputs": [],
   "source": [
    "def plot_history(model_hist):\n",
    "    '''Given model training data, plot the model training history.'''\n",
    "    plt.plot(model_hist.history['accuracy'])\n",
    "    plt.plot(model_hist.history['val_accuracy'])\n",
    "    plt.title('model accuracy')\n",
    "    plt.ylabel('accuracy')\n",
    "    plt.xlabel('epoch')\n",
    "    plt.legend(['train', 'val'], loc='upper left')\n",
    "    plt.show()\n",
    "    return\n",
    "\n",
    "def print_performance(y_truth, y_pred_class):\n",
    "    '''Given ground truth and predicted labels, print the performance of the model:\n",
    "        - Confusion Matrix\n",
    "        - Accuracy\n",
    "        - Matthews Correlation Coefficient\n",
    "    '''\n",
    "    print(\"\\nConfusion Matrix:\")\n",
    "    print(confusion_matrix(y_truth, y_pred_class))\n",
    "\n",
    "    print(\"Accuracy: {0:.4f}\".format(accuracy_score(y_truth, y_pred_class)))\n",
    "    print(\"MCC:      {0:.4f}\".format(matthews_corrcoef(y_truth, y_pred_class)))\n",
    "    return\n",
    "\n",
    "\n",
    "def list_files(path):\n",
    "    '''List files recursively for a given path. Use full path for each file.'''\n",
    "    files = []\n",
    "    for r, d, f in os.walk(path):\n",
    "        for file in f:\n",
    "            files.append(os.path.join(r, file))\n",
    "    return files\n",
    "\n",
    "def print_pil_img_info(an_img_path):\n",
    "    '''Print info for image opened with PIL Image'''\n",
    "    an_img = Image.open(an_img_path)\n",
    "    print(\"format:\", an_img.format)\n",
    "    print(\"mode:\", an_img.mode)\n",
    "    print(\"size:\", an_img.size)"
   ]
  },
  {
   "cell_type": "markdown",
   "id": "aa32bc85",
   "metadata": {},
   "source": [
    "The data used for model training is contained in the folder `binary_128x128_2000train`. This folder contains sub-folders `test`, `train`, and `val`."
   ]
  },
  {
   "cell_type": "code",
   "execution_count": 9,
   "id": "033fa887",
   "metadata": {},
   "outputs": [
    {
     "name": "stdout",
     "output_type": "stream",
     "text": [
      "['.ipynb_checkpoints', 'binary_128x128_2000train', 'sift_keypoints.jpg', 'sift_keypoints2.jpg', 'testDefectImage.png', 'testNoDefectImage.png', 'Untitled.ipynb']\n",
      "['test', 'train', 'val']\n"
     ]
    }
   ],
   "source": [
    "# Print the data directory structure\n",
    "print(os.listdir(\"../Data\"))\n",
    "print(os.listdir(\"../Data/binary_128x128_2000train\"))\n",
    "\n",
    "# Set folder variables\n",
    "proj_dir = \".\"\n",
    "dataset_base_dir = '../Data/binary_128x128_2000train/'\n",
    "TRAIN_DIR = dataset_base_dir + 'train'\n",
    "VAL_DIR = dataset_base_dir + 'val'\n",
    "TEST_DIR = dataset_base_dir + 'test'\n",
    "\n",
    "# Get number of samples in each folder\n",
    "num_train_samples = len(list_files(os.path.join(proj_dir, TRAIN_DIR)))\n",
    "num_val_samples = len(list_files(os.path.join(proj_dir, VAL_DIR)))\n",
    "num_test_samples = len(list_files(os.path.join(proj_dir, TEST_DIR)))"
   ]
  },
  {
   "cell_type": "markdown",
   "id": "ed2fc517",
   "metadata": {},
   "source": [
    "### Check data\n",
    "The data is split into training, validation, and test sets. The train set is used to train the model, and validation set is used to check performance during training. The test set is held out until the end to check final model performance.\n",
    "\n",
    "To get an idea of what the data looks like, we load a sample image from the training folder and print its metadata."
   ]
  },
  {
   "cell_type": "code",
   "execution_count": 10,
   "id": "c38f659c",
   "metadata": {},
   "outputs": [
    {
     "name": "stdout",
     "output_type": "stream",
     "text": [
      "2000 600 600\n"
     ]
    },
    {
     "data": {
      "image/png": "[encoded data removed]",
      "text/plain": [
       "<PIL.PngImagePlugin.PngImageFile image mode=L size=128x128 at 0x231107BEF28>"
      ]
     },
     "metadata": {},
     "output_type": "display_data"
    },
    {
     "name": "stdout",
     "output_type": "stream",
     "text": [
      "format: PNG\n",
      "mode: L\n",
      "size: (128, 128)\n"
     ]
    }
   ],
   "source": [
    "# Print the number of images in train, validation, and test directories\n",
    "print(num_train_samples, num_val_samples, num_test_samples)\n",
    "\n",
    "# Load an image and print image metadata\n",
    "from PIL import Image\n",
    "sample_img_path = list_files(os.path.join(proj_dir, TRAIN_DIR))[0]\n",
    "\n",
    "sample_img = Image.open(sample_img_path)\n",
    "display(sample_img)\n",
    "print_pil_img_info(sample_img_path)"
   ]
  },
  {
   "cell_type": "markdown",
   "id": "eeac6eb4",
   "metadata": {},
   "source": [
    "### Define model\n",
    "\n",
    "We start with a MobileNet model and modify it for our needs."
   ]
  },
  {
   "cell_type": "code",
   "execution_count": 27,
   "id": "dfb751c8",
   "metadata": {},
   "outputs": [],
   "source": [
    "# Set model training variables\n",
    "batch_size = 32\n",
    "tile_size = (128,128) \n",
    "global_average_layer = tf.keras.layers.GlobalAveragePooling2D()\n",
    "\n",
    "# Define base model\n",
    "base_model = applications.InceptionResNetV2(weights = \"imagenet\",\n",
    "                                 include_top=False,\n",
    "                                 input_shape = (tile_size[0], tile_size[1], 3))\n",
    "base_model.trainable = False\n",
    "\n",
    "inputs = tf.keras.Input(shape=(tile_size) + (3,))\n",
    "x = base_model(inputs, training=False)\n",
    "x = global_average_layer(x)\n",
    "x = layers.Flatten(name = \"flatten\")(x)\n",
    "x = layers.Dropout(0.5)(x)\n",
    "outputs = layers.Dense(2, activation = 'softmax')(x)\n",
    "\n",
    "model = models.Model(inputs, outputs)\n",
    "\n",
    "base_learning_rate = 0.0001\n",
    "\n",
    "model.compile(loss = tf.keras.losses.BinaryCrossentropy(from_logits=True),\n",
    "              optimizer = optimizers.Adam(learning_rate = base_learning_rate),\n",
    "              metrics = [\"accuracy\"])\n",
    "\n",
    "# Uncomment the following line to see the (long) model summary\n",
    "# print(model.summary())"
   ]
  },
  {
   "cell_type": "markdown",
   "id": "6d044cd1",
   "metadata": {},
   "source": [
    "### Define data generators\n",
    "\n",
    "Define the data generators used during training and testing. The training data generator includes a few transformations that are applied to images during training."
   ]
  },
  {
   "cell_type": "code",
   "execution_count": 29,
   "id": "e6f3bb41",
   "metadata": {},
   "outputs": [
    {
     "name": "stdout",
     "output_type": "stream",
     "text": [
      "Found 2000 images belonging to 2 classes.\n",
      "Found 600 images belonging to 2 classes.\n",
      "Found 600 images belonging to 2 classes.\n"
     ]
    }
   ],
   "source": [
    "train_datagen = ImageDataGenerator(\n",
    "    rescale = 1./255,\n",
    "    rotation_range=10,\n",
    "    width_shift_range=0.1,\n",
    "    height_shift_range=0.1,\n",
    "    shear_range=0.1,\n",
    "    zoom_range=0.1,\n",
    "    horizontal_flip=True,\n",
    "    vertical_flip=True,\n",
    "    fill_mode='reflect')\n",
    "\n",
    "test_datagen = ImageDataGenerator(rescale = 1./255)\n",
    "\n",
    "train_generator = train_datagen.flow_from_directory(\n",
    "        TRAIN_DIR,\n",
    "        target_size=tile_size,\n",
    "        batch_size=batch_size,\n",
    "        class_mode='categorical',\n",
    "        color_mode = 'rgb')\n",
    "\n",
    "validation_generator = test_datagen.flow_from_directory(\n",
    "        VAL_DIR,\n",
    "        target_size=tile_size,\n",
    "        batch_size=batch_size,\n",
    "        class_mode='categorical',\n",
    "        color_mode = 'rgb')\n",
    "\n",
    "test_generator = test_datagen.flow_from_directory(\n",
    "    TEST_DIR,\n",
    "    target_size = tile_size,\n",
    "    batch_size = batch_size,\n",
    "    class_mode = 'categorical',\n",
    "    color_mode = 'rgb',\n",
    "    shuffle = False)\n",
    "\n",
    "# plot_losses = PlotLosses()"
   ]
  },
  {
   "cell_type": "markdown",
   "id": "b2ed9c48",
   "metadata": {},
   "source": [
    "### Train the model\n",
    "\n",
    "We now train the model."
   ]
  },
  {
   "cell_type": "markdown",
   "id": "d5e5b1d3",
   "metadata": {},
   "source": [
    "import keras\n",
    "config = tf.ConfigProto( device_count = {'GPU': 1 , 'CPU': 56} ) \n",
    "sess = tf.Session(config=config) \n",
    "keras.backend.set_session(sess)"
   ]
  },
  {
   "cell_type": "code",
   "execution_count": null,
   "id": "0d629344",
   "metadata": {},
   "outputs": [],
   "source": [
    "len(model.trainable_variables)"
   ]
  },
  {
   "cell_type": "code",
   "execution_count": 30,
   "id": "754db11e",
   "metadata": {},
   "outputs": [
    {
     "name": "stdout",
     "output_type": "stream",
     "text": [
      "Epoch 1/20\n",
      "62/62 [==============================] - 30s 366ms/step - loss: 1.0804 - accuracy: 0.4959 - val_loss: 0.6866 - val_accuracy: 0.5955\n",
      "Epoch 2/20\n",
      "62/62 [==============================] - 23s 370ms/step - loss: 0.9359 - accuracy: 0.5544 - val_loss: 0.5527 - val_accuracy: 0.7778\n",
      "Epoch 3/20\n",
      "62/62 [==============================] - 20s 313ms/step - loss: 0.8253 - accuracy: 0.6174 - val_loss: 0.4846 - val_accuracy: 0.8194\n",
      "Epoch 4/20\n",
      "62/62 [==============================] - 21s 332ms/step - loss: 0.7739 - accuracy: 0.6596 - val_loss: 0.4333 - val_accuracy: 0.8385\n",
      "Epoch 5/20\n",
      "62/62 [==============================] - 17s 277ms/step - loss: 0.7006 - accuracy: 0.6865 - val_loss: 0.4035 - val_accuracy: 0.8472\n",
      "Epoch 6/20\n",
      "62/62 [==============================] - 19s 297ms/step - loss: 0.6557 - accuracy: 0.7205 - val_loss: 0.3769 - val_accuracy: 0.8594\n",
      "Epoch 7/20\n",
      "62/62 [==============================] - 15s 242ms/step - loss: 0.6451 - accuracy: 0.7327 - val_loss: 0.3670 - val_accuracy: 0.8524\n",
      "Epoch 8/20\n",
      "62/62 [==============================] - 19s 301ms/step - loss: 0.6150 - accuracy: 0.7490 - val_loss: 0.3528 - val_accuracy: 0.8507\n",
      "Epoch 9/20\n",
      "62/62 [==============================] - 18s 283ms/step - loss: 0.5865 - accuracy: 0.7642 - val_loss: 0.3385 - val_accuracy: 0.8490\n",
      "Epoch 10/20\n",
      "62/62 [==============================] - 15s 238ms/step - loss: 0.5780 - accuracy: 0.7693 - val_loss: 0.3323 - val_accuracy: 0.8576\n",
      "Epoch 11/20\n",
      "62/62 [==============================] - 14s 227ms/step - loss: 0.5409 - accuracy: 0.7825 - val_loss: 0.3236 - val_accuracy: 0.8611\n",
      "Epoch 12/20\n",
      "62/62 [==============================] - 24s 375ms/step - loss: 0.5168 - accuracy: 0.7871 - val_loss: 0.3140 - val_accuracy: 0.8698\n",
      "Epoch 13/20\n",
      "62/62 [==============================] - 28s 443ms/step - loss: 0.4892 - accuracy: 0.8079 - val_loss: 0.3118 - val_accuracy: 0.8715\n",
      "Epoch 14/20\n",
      "62/62 [==============================] - 28s 443ms/step - loss: 0.4977 - accuracy: 0.7942 - val_loss: 0.2945 - val_accuracy: 0.8854\n",
      "Epoch 15/20\n",
      "62/62 [==============================] - 28s 444ms/step - loss: 0.4702 - accuracy: 0.8201 - val_loss: 0.2956 - val_accuracy: 0.8837\n",
      "Epoch 16/20\n",
      "62/62 [==============================] - 28s 443ms/step - loss: 0.4642 - accuracy: 0.8201 - val_loss: 0.3027 - val_accuracy: 0.8750\n",
      "Epoch 17/20\n",
      "62/62 [==============================] - 28s 444ms/step - loss: 0.4606 - accuracy: 0.8155 - val_loss: 0.2961 - val_accuracy: 0.8837\n",
      "Epoch 18/20\n",
      "62/62 [==============================] - 20s 314ms/step - loss: 0.4909 - accuracy: 0.8064 - val_loss: 0.2916 - val_accuracy: 0.8837\n",
      "Epoch 19/20\n",
      "62/62 [==============================] - 20s 316ms/step - loss: 0.4638 - accuracy: 0.8115 - val_loss: 0.2872 - val_accuracy: 0.8819\n",
      "Epoch 20/20\n",
      "62/62 [==============================] - 18s 292ms/step - loss: 0.4227 - accuracy: 0.8186 - val_loss: 0.2889 - val_accuracy: 0.8802\n",
      "Trained model in 430.6626 seconds\n"
     ]
    }
   ],
   "source": [
    "initial_epochs = 20\n",
    "\n",
    "tic = perf_counter()\n",
    "model_hist = model.fit(\n",
    "        train_generator,\n",
    "        steps_per_epoch= num_train_samples // batch_size,\n",
    "        epochs=initial_epochs,\n",
    "        validation_data=validation_generator,\n",
    "        validation_steps= num_val_samples // batch_size)\n",
    "toc = perf_counter()\n",
    "print(f\"Trained model in {toc - tic:0.4f} seconds\")"
   ]
  },
  {
   "cell_type": "markdown",
   "id": "c25e95b7",
   "metadata": {},
   "source": [
    "### Plot training history and check model performance\n",
    "\n",
    "We plot the training and validation set accuracy over the training epochs. We also calculate the accuracy and Matthews correlation coefficient on the test dataset."
   ]
  },
  {
   "cell_type": "code",
   "execution_count": 35,
   "id": "05397ab4",
   "metadata": {},
   "outputs": [
    {
     "data": {
      "image/png": "[encoded data removed]",
      "text/plain": [
       "<Figure size 576x576 with 2 Axes>"
      ]
     },
     "metadata": {
      "needs_background": "light"
     },
     "output_type": "display_data"
    },
    {
     "name": "stdout",
     "output_type": "stream",
     "text": [
      "\n",
      "Model performance on test dataset:\n",
      "\n",
      "Confusion Matrix:\n",
      "[[266  34]\n",
      " [ 87 213]]\n",
      "Accuracy: 0.7983\n",
      "MCC:      0.6062\n"
     ]
    }
   ],
   "source": [
    "acc = model_hist.history['accuracy']\n",
    "val_acc = model_hist.history['val_accuracy']\n",
    "\n",
    "loss = model_hist.history['loss']\n",
    "val_loss = model_hist.history['val_loss']\n",
    "\n",
    "plt.figure(figsize=(8, 8))\n",
    "plt.subplot(2, 1, 1)\n",
    "plt.plot(acc, label='Training Accuracy')\n",
    "plt.plot(val_acc, label='Validation Accuracy')\n",
    "plt.legend(loc='lower right')\n",
    "plt.ylabel('Accuracy')\n",
    "plt.ylim([min(plt.ylim()),1])\n",
    "plt.title('Training and Validation Accuracy')\n",
    "\n",
    "plt.subplot(2, 1, 2)\n",
    "plt.plot(loss, label='Training Loss')\n",
    "plt.plot(val_loss, label='Validation Loss')\n",
    "plt.legend(loc='upper right')\n",
    "plt.ylabel('Cross Entropy')\n",
    "plt.ylim([0,1.0])\n",
    "plt.title('Training and Validation Loss')\n",
    "plt.xlabel('epoch')\n",
    "plt.show()\n",
    "\n",
    "y_pred = model.predict(test_generator, steps = None)\n",
    "y_pred_class = np.array([np.argmax(x) for x in y_pred])\n",
    "y_truth = test_generator.classes\n",
    "\n",
    "print(\"\\nModel performance on test dataset:\")\n",
    "print_performance(y_truth, y_pred_class)"
   ]
  },
  {
   "cell_type": "code",
   "execution_count": 36,
   "id": "b8ba6a02",
   "metadata": {},
   "outputs": [],
   "source": [
    "## Fine tuning\n",
    "## unfreezing base model and training on top of that"
   ]
  },
  {
   "cell_type": "code",
   "execution_count": 37,
   "id": "4cfc9021",
   "metadata": {},
   "outputs": [],
   "source": [
    "base_model.trainable = True"
   ]
  },
  {
   "cell_type": "code",
   "execution_count": 38,
   "id": "24651dd4",
   "metadata": {},
   "outputs": [
    {
     "name": "stdout",
     "output_type": "stream",
     "text": [
      "Number of layers in the base model:  780\n"
     ]
    }
   ],
   "source": [
    "# Let's take a look to see how many layers are in the base model\n",
    "print(\"Number of layers in the base model: \", len(base_model.layers))"
   ]
  },
  {
   "cell_type": "code",
   "execution_count": 39,
   "id": "c2eb0f26",
   "metadata": {},
   "outputs": [],
   "source": [
    "# Fine-tune from this layer onwards\n",
    "fine_tune_at = 100\n",
    "\n",
    "# Freeze all the layers before the `fine_tune_at` layer\n",
    "for layer in base_model.layers[:fine_tune_at]:\n",
    "    layer.trainable = False"
   ]
  },
  {
   "cell_type": "code",
   "execution_count": 40,
   "id": "5c7ba9bf",
   "metadata": {},
   "outputs": [],
   "source": [
    "base_learning_rate = 0.0001"
   ]
  },
  {
   "cell_type": "code",
   "execution_count": 41,
   "id": "61daffc7",
   "metadata": {},
   "outputs": [],
   "source": [
    "model.compile(loss=tf.keras.losses.BinaryCrossentropy(from_logits=True),\n",
    "              optimizer = tf.keras.optimizers.RMSprop(learning_rate=base_learning_rate/10),\n",
    "              metrics=['accuracy'])"
   ]
  },
  {
   "cell_type": "code",
   "execution_count": 42,
   "id": "ea73393d",
   "metadata": {},
   "outputs": [
    {
     "name": "stdout",
     "output_type": "stream",
     "text": [
      "Model: \"model_2\"\n",
      "_________________________________________________________________\n",
      "Layer (type)                 Output Shape              Param #   \n",
      "=================================================================\n",
      "input_13 (InputLayer)        [(None, 128, 128, 3)]     0         \n",
      "_________________________________________________________________\n",
      "inception_resnet_v2 (Functio (None, 2, 2, 1536)        54336736  \n",
      "_________________________________________________________________\n",
      "global_average_pooling2d_3 ( (None, 1536)              0         \n",
      "_________________________________________________________________\n",
      "flatten (Flatten)            (None, 1536)              0         \n",
      "_________________________________________________________________\n",
      "dropout_2 (Dropout)          (None, 1536)              0         \n",
      "_________________________________________________________________\n",
      "dense_2 (Dense)              (None, 2)                 3074      \n",
      "=================================================================\n",
      "Total params: 54,339,810\n",
      "Trainable params: 53,511,698\n",
      "Non-trainable params: 828,112\n",
      "_________________________________________________________________\n"
     ]
    }
   ],
   "source": [
    "model.summary()"
   ]
  },
  {
   "cell_type": "code",
   "execution_count": 43,
   "id": "cbd9f78b",
   "metadata": {},
   "outputs": [
    {
     "data": {
      "text/plain": [
       "426"
      ]
     },
     "execution_count": 43,
     "metadata": {},
     "output_type": "execute_result"
    }
   ],
   "source": [
    "len(model.trainable_variables)"
   ]
  },
  {
   "cell_type": "code",
   "execution_count": 44,
   "id": "d4a3a52c",
   "metadata": {},
   "outputs": [],
   "source": [
    "initial_epochs = 20"
   ]
  },
  {
   "cell_type": "code",
   "execution_count": 46,
   "id": "b8e138c8",
   "metadata": {},
   "outputs": [
    {
     "name": "stdout",
     "output_type": "stream",
     "text": [
      "Epoch 20/40\n",
      "62/62 [==============================] - 59s 638ms/step - loss: 0.2474 - accuracy: 0.8999 - val_loss: 0.1480 - val_accuracy: 0.9306\n",
      "Epoch 21/40\n",
      "62/62 [==============================] - 37s 595ms/step - loss: 0.1623 - accuracy: 0.9451 - val_loss: 0.0777 - val_accuracy: 0.9705\n",
      "Epoch 22/40\n",
      "62/62 [==============================] - 37s 586ms/step - loss: 0.1118 - accuracy: 0.9624 - val_loss: 0.0744 - val_accuracy: 0.9722\n",
      "Epoch 23/40\n",
      "62/62 [==============================] - 36s 585ms/step - loss: 0.0826 - accuracy: 0.9700 - val_loss: 0.0535 - val_accuracy: 0.9774\n",
      "Epoch 24/40\n",
      "62/62 [==============================] - 36s 583ms/step - loss: 0.0613 - accuracy: 0.9807 - val_loss: 0.0531 - val_accuracy: 0.9826\n",
      "Epoch 25/40\n",
      "62/62 [==============================] - 36s 584ms/step - loss: 0.0564 - accuracy: 0.9837 - val_loss: 0.0400 - val_accuracy: 0.9896\n",
      "Epoch 26/40\n",
      "62/62 [==============================] - 36s 585ms/step - loss: 0.0434 - accuracy: 0.9868 - val_loss: 0.0350 - val_accuracy: 0.9844\n",
      "Epoch 27/40\n",
      "62/62 [==============================] - 37s 589ms/step - loss: 0.0458 - accuracy: 0.9888 - val_loss: 0.0375 - val_accuracy: 0.9896\n",
      "Epoch 28/40\n",
      "62/62 [==============================] - 36s 586ms/step - loss: 0.0341 - accuracy: 0.9898 - val_loss: 0.0213 - val_accuracy: 0.9948\n",
      "Epoch 29/40\n",
      "62/62 [==============================] - 36s 587ms/step - loss: 0.0266 - accuracy: 0.9909 - val_loss: 0.0290 - val_accuracy: 0.9931\n",
      "Epoch 30/40\n",
      "62/62 [==============================] - 36s 585ms/step - loss: 0.0303 - accuracy: 0.9893 - val_loss: 0.0300 - val_accuracy: 0.9931\n",
      "Epoch 31/40\n",
      "62/62 [==============================] - 37s 587ms/step - loss: 0.0215 - accuracy: 0.9934 - val_loss: 0.0517 - val_accuracy: 0.9878\n",
      "Epoch 32/40\n",
      "62/62 [==============================] - 36s 588ms/step - loss: 0.0339 - accuracy: 0.9924 - val_loss: 0.0191 - val_accuracy: 0.9948\n",
      "Epoch 33/40\n",
      "62/62 [==============================] - 36s 587ms/step - loss: 0.0094 - accuracy: 0.9965 - val_loss: 0.0581 - val_accuracy: 0.9896\n",
      "Epoch 34/40\n",
      "62/62 [==============================] - 36s 585ms/step - loss: 0.0265 - accuracy: 0.9949 - val_loss: 0.0315 - val_accuracy: 0.9948\n",
      "Epoch 35/40\n",
      "62/62 [==============================] - 36s 584ms/step - loss: 0.0168 - accuracy: 0.9964 - val_loss: 0.1932 - val_accuracy: 0.9688\n",
      "Epoch 36/40\n",
      "62/62 [==============================] - 36s 585ms/step - loss: 0.0126 - accuracy: 0.9944 - val_loss: 0.0241 - val_accuracy: 0.9931\n",
      "Epoch 37/40\n",
      "62/62 [==============================] - 36s 586ms/step - loss: 0.0146 - accuracy: 0.9959 - val_loss: 0.0269 - val_accuracy: 0.9948\n",
      "Epoch 38/40\n",
      "62/62 [==============================] - 36s 586ms/step - loss: 0.0062 - accuracy: 0.9980 - val_loss: 0.0425 - val_accuracy: 0.9913\n",
      "Epoch 39/40\n",
      "62/62 [==============================] - 36s 585ms/step - loss: 0.0150 - accuracy: 0.9954 - val_loss: 0.0266 - val_accuracy: 0.9948\n",
      "Epoch 40/40\n",
      "62/62 [==============================] - 36s 585ms/step - loss: 0.0194 - accuracy: 0.9959 - val_loss: 0.0125 - val_accuracy: 0.9965\n",
      "Trained model in 788.0187 seconds\n"
     ]
    }
   ],
   "source": [
    "fine_tune_epochs = 20\n",
    "total_epochs =  initial_epochs + fine_tune_epochs\n",
    "\n",
    "tic = perf_counter()\n",
    "history_fine = model.fit(train_generator,\n",
    "                         steps_per_epoch= num_train_samples // batch_size,\n",
    "                         epochs=total_epochs,\n",
    "                         initial_epoch=model_hist.epoch[-1],\n",
    "                         validation_data=validation_generator,\n",
    "                         validation_steps= num_val_samples // batch_size)\n",
    "toc = perf_counter()\n",
    "print(f\"Trained model in {toc - tic:0.4f} seconds\")"
   ]
  },
  {
   "cell_type": "code",
   "execution_count": 47,
   "id": "d186c6ce",
   "metadata": {},
   "outputs": [
    {
     "data": {
      "image/png": "[encoded data removed]",
      "text/plain": [
       "<Figure size 576x576 with 2 Axes>"
      ]
     },
     "metadata": {
      "needs_background": "light"
     },
     "output_type": "display_data"
    },
    {
     "name": "stdout",
     "output_type": "stream",
     "text": [
      "\n",
      "Model performance on test dataset:\n",
      "\n",
      "Confusion Matrix:\n",
      "[[270  30]\n",
      " [  6 294]]\n",
      "Accuracy: 0.9400\n",
      "MCC:      0.8828\n"
     ]
    }
   ],
   "source": [
    "acc = history_fine.history['accuracy']\n",
    "val_acc = history_fine.history['val_accuracy']\n",
    "\n",
    "loss = history_fine.history['loss']\n",
    "val_loss = history_fine.history['val_loss']\n",
    "\n",
    "plt.figure(figsize=(8, 8))\n",
    "plt.subplot(2, 1, 1)\n",
    "plt.plot(acc, label='Training Accuracy')\n",
    "plt.plot(val_acc, label='Validation Accuracy')\n",
    "plt.legend(loc='lower right')\n",
    "plt.ylabel('Accuracy')\n",
    "plt.ylim([min(plt.ylim()),1])\n",
    "plt.title('Training and Validation Accuracy')\n",
    "\n",
    "plt.subplot(2, 1, 2)\n",
    "plt.plot(loss, label='Training Loss')\n",
    "plt.plot(val_loss, label='Validation Loss')\n",
    "plt.legend(loc='upper right')\n",
    "plt.ylabel('Cross Entropy')\n",
    "plt.ylim([0,1.0])\n",
    "plt.title('Training and Validation Loss')\n",
    "plt.xlabel('epoch')\n",
    "plt.show()\n",
    "\n",
    "y_pred = model.predict(test_generator, steps = None)\n",
    "y_pred_class = np.array([np.argmax(x) for x in y_pred])\n",
    "y_truth = test_generator.classes\n",
    "\n",
    "print(\"\\nModel performance on test dataset:\")\n",
    "print_performance(y_truth, y_pred_class)"
   ]
  },
  {
   "cell_type": "markdown",
   "id": "d206470e",
   "metadata": {},
   "source": [
    "### Convert model to ONNX and save\n",
    "\n",
    "After converting the Keras model to ONNX, we set the `graph.name` property directly.\n",
    "\n",
    "We also check names of the model input and output. The input name in the model must match the input name used in the `weldingPreProcessing.py` file, otherwise an error will be thrown during the scoring process."
   ]
  },
  {
   "cell_type": "code",
   "execution_count": null,
   "id": "bb8c03ed",
   "metadata": {},
   "outputs": [],
   "source": [
    "# Convert from keras to onnx\n",
    "spec = (tf.TensorSpec((None, tile_size[0], tile_size[1], 3), tf.float32, name=\"input\"),)\n",
    "model_proto, _ = tf2onnx.convert.from_keras(model = model, input_signature = spec)\n",
    "# Set the graph name\n",
    "model_proto.graph.name = 'weldingDefectModel'\n",
    "\n",
    "# Print the model inputs and outputs\n",
    "input_names = [n.name for n in model_proto.graph.input]\n",
    "output_names = [n.name for n in model_proto.graph.output]\n",
    "print(input_names)\n",
    "print(output_names)\n",
    "\n",
    "# Save the model\n",
    "onnx.save(model_proto, \"../Model/weldingDefectModel.onnx\")"
   ]
  },
  {
   "cell_type": "code",
   "execution_count": null,
   "id": "fde774c7",
   "metadata": {},
   "outputs": [],
   "source": []
  }
 ],
 "metadata": {
  "kernelspec": {
   "display_name": "Python 3",
   "language": "python",
   "name": "python3"
  },
  "language_info": {
   "codemirror_mode": {
    "name": "ipython",
    "version": 3
   },
   "file_extension": ".py",
   "mimetype": "text/x-python",
   "name": "python",
   "nbconvert_exporter": "python",
   "pygments_lexer": "ipython3",
   "version": "3.6.13"
  }
 },
 "nbformat": 4,
 "nbformat_minor": 5
}
